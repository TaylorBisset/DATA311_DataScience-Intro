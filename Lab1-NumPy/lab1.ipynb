{
  "cells": [
    {
      "cell_type": "markdown",
      "metadata": {
        "id": "view-in-github",
        "colab_type": "text"
      },
      "source": [
        "<a href=\"https://colab.research.google.com/github/TaylorBisset/DATA311_DataScience-Intro/blob/main/Lab1-NumPy/lab1.ipynb\" target=\"_parent\"><img src=\"https://colab.research.google.com/assets/colab-badge.svg\" alt=\"Open In Colab\"/></a>"
      ]
    },
    {
      "cell_type": "markdown",
      "metadata": {
        "id": "mqAuLRBIqj3Z"
      },
      "source": [
        "# Lab 1: Introduction to NumPy\n",
        "\n",
        "In this lab, you will learn to use NumPy, a Python library for working with arrays. Hint: if you find yourself stuck, reviewing the documentation can be useful https://numpy.org/doc/stable/user/.\n",
        "\n",
        "# Required:\n",
        "Before starting, navigate to Settings (top-right gear icon). Click on \"AI Assistance\" and ensure that \"Show AI-powered inline completions\" and \"Consented to use generative AI features\" are *deselected*, and \"Hide generative AI features\" is *selected*.\n"
      ]
    },
    {
      "cell_type": "markdown",
      "metadata": {
        "id": "uI2t6f6Dq06s"
      },
      "source": [
        "## Part I: NumPy array (vector) indexing and calculations\n",
        "\n",
        "Let $\\textbf{x}$ be a random vector of integers with 50 elements distributed between a lower bound of 5 and upper bound of 313. Follow the prompts in the text cells to complete the code cells below. Note: for this exercise and throughout the quarter, the first element of an array/vector is always at index 0 when coding in Python.    "
      ]
    },
    {
      "cell_type": "code",
      "execution_count": 1,
      "metadata": {
        "id": "Ored7fdgq-DA",
        "colab": {
          "base_uri": "https://localhost:8080/"
        },
        "outputId": "cf88f30d-57c4-48fa-e549-d6c33491042b"
      },
      "outputs": [
        {
          "output_type": "execute_result",
          "data": {
            "text/plain": [
              "array([270, 130,  20, 128, 161, 226,  13,  78, 261,  45,  21, 244,  59,\n",
              "       127,  67,  38, 205, 182, 184,  59,  82,  18, 248, 146, 291, 163,\n",
              "        94, 145,  36, 297, 288,  23,  98,  82,  99, 253, 161,  79, 221,\n",
              "        20,  23, 123,  76, 150, 140, 208, 289, 294, 255,  49])"
            ]
          },
          "metadata": {},
          "execution_count": 1
        }
      ],
      "source": [
        "import numpy as np\n",
        "# Set random seed so that correct results are deterministic\n",
        "np.random.seed(10)\n",
        "# Get a random vector to play with\n",
        "x = np.random.randint(low=5, high=313, size=(50,))\n",
        "x"
      ]
    },
    {
      "cell_type": "markdown",
      "metadata": {
        "id": "yFjvAVaXsjbO"
      },
      "source": [
        "Select the ***first*** 15 elements of $\\textbf{x}$ in an array $\\textbf{y}$ using slice indexing."
      ]
    },
    {
      "cell_type": "code",
      "execution_count": 2,
      "metadata": {
        "id": "xgHbY69Yr0dL",
        "colab": {
          "base_uri": "https://localhost:8080/"
        },
        "outputId": "18493459-e99d-49ac-ba73-a21f3c8d0bae"
      },
      "outputs": [
        {
          "output_type": "stream",
          "name": "stdout",
          "text": [
            "[270 130  20 128 161 226  13  78 261  45  21 244  59 127  67]\n"
          ]
        }
      ],
      "source": [
        "y = x[0:15]\n",
        "print(y)"
      ]
    },
    {
      "cell_type": "markdown",
      "metadata": {
        "id": "gUoNbqNRtk6z"
      },
      "source": [
        "Select the ***last*** 15 elements of $\\textbf{x}$ in an array $\\textbf{z}$ using slice indexing."
      ]
    },
    {
      "cell_type": "code",
      "execution_count": 3,
      "metadata": {
        "id": "zhiC5EeJtw1R",
        "colab": {
          "base_uri": "https://localhost:8080/"
        },
        "outputId": "23662571-0565-4a10-e384-493cdba9aa97"
      },
      "outputs": [
        {
          "output_type": "stream",
          "name": "stdout",
          "text": [
            "[253 161  79 221  20  23 123  76 150 140 208 289 294 255  49]\n"
          ]
        }
      ],
      "source": [
        "z = x[-15:]\n",
        "print(z)"
      ]
    },
    {
      "cell_type": "markdown",
      "metadata": {
        "id": "3x3IxBert1w2"
      },
      "source": [
        "Store the elementwise sum of $\\textbf{y}$ and $\\textbf{z}$ in an array named $\\texttt{sumyz}$."
      ]
    },
    {
      "cell_type": "code",
      "source": [
        "sumyz = y + z\n",
        "print(sumyz)"
      ],
      "metadata": {
        "id": "QNt_qWf-mQhl",
        "colab": {
          "base_uri": "https://localhost:8080/"
        },
        "outputId": "4c302cdf-25b9-4523-a85f-d5c2ef028553"
      },
      "execution_count": 4,
      "outputs": [
        {
          "output_type": "stream",
          "name": "stdout",
          "text": [
            "[523 291  99 349 181 249 136 154 411 185 229 533 353 382 116]\n"
          ]
        }
      ]
    },
    {
      "cell_type": "markdown",
      "metadata": {
        "id": "XWpXru3RuR_G"
      },
      "source": [
        "Store the elementwise difference of $\\textbf{z}$ subtracted from $\\textbf{y}$ in an array named $\\texttt{yminusz}$.\n",
        "\n",
        "\n",
        "\n"
      ]
    },
    {
      "cell_type": "code",
      "execution_count": 5,
      "metadata": {
        "id": "IudcoYu0uYYO",
        "colab": {
          "base_uri": "https://localhost:8080/"
        },
        "outputId": "92e069bf-8a30-4371-becf-8f84a07e7225"
      },
      "outputs": [
        {
          "output_type": "stream",
          "name": "stdout",
          "text": [
            "[  17  -31  -59  -93  141  203 -110    2  111  -95 -187  -45 -235 -128\n",
            "   18]\n"
          ]
        }
      ],
      "source": [
        "yminusz = y - z\n",
        "print(yminusz)"
      ]
    },
    {
      "cell_type": "markdown",
      "metadata": {
        "id": "eJi2UOVBjx2-"
      },
      "source": [
        "Confirm that $\\texttt{sumyz} + \\texttt{yminusz}  = \\textbf{y} + \\textbf{y}$ using the $\\texttt{==}$ comparison operator. Store the resulting boolean matrix in an array called $\\texttt{check}$."
      ]
    },
    {
      "cell_type": "code",
      "execution_count": 6,
      "metadata": {
        "id": "9PEKPQ8eloWD",
        "colab": {
          "base_uri": "https://localhost:8080/"
        },
        "outputId": "df229053-e40a-44f5-f74f-3c7ddc4b2f4b"
      },
      "outputs": [
        {
          "output_type": "stream",
          "name": "stdout",
          "text": [
            "[ True  True  True  True  True  True  True  True  True  True  True  True\n",
            "  True  True  True]\n"
          ]
        }
      ],
      "source": [
        "check = ((sumyz + yminusz) == (y + y))\n",
        "print(check)"
      ]
    },
    {
      "cell_type": "markdown",
      "metadata": {
        "id": "czTeT6Gkuy-_"
      },
      "source": [
        "Store the elementwise product of $\\textbf{y}$ and $\\textbf{z}$ in an array named $\\texttt{mulyz}$."
      ]
    },
    {
      "cell_type": "code",
      "execution_count": 7,
      "metadata": {
        "id": "4HVWcoaFvJxO",
        "colab": {
          "base_uri": "https://localhost:8080/"
        },
        "outputId": "cc21d8e9-3219-4c13-9bd0-7666e58bed8a"
      },
      "outputs": [
        {
          "output_type": "stream",
          "name": "stdout",
          "text": [
            "[68310 20930  1580 28288  3220  5198  1599  5928 39150  6300  4368 70516\n",
            " 17346 32385  3283]\n"
          ]
        }
      ],
      "source": [
        "mulyz = y * z\n",
        "print(mulyz)"
      ]
    },
    {
      "cell_type": "markdown",
      "metadata": {
        "id": "Ly_i-1EivRHB"
      },
      "source": [
        "Store the 17th element of $\\textbf{x}$ in a variable $\\texttt{seventeen}$"
      ]
    },
    {
      "cell_type": "code",
      "execution_count": 8,
      "metadata": {
        "id": "NnGU6Cm3v_KI",
        "colab": {
          "base_uri": "https://localhost:8080/"
        },
        "outputId": "d0258375-c2f4-424a-eb71-f6cb95648548"
      },
      "outputs": [
        {
          "output_type": "stream",
          "name": "stdout",
          "text": [
            "205\n"
          ]
        }
      ],
      "source": [
        "seventeen = x[16]\n",
        "print(seventeen)"
      ]
    },
    {
      "cell_type": "markdown",
      "metadata": {
        "id": "KhhvANmEwCSK"
      },
      "source": [
        "NumPy slicing can also be used to select a range of elements in the middle of an array. For $i < j$, to select elements [$i, i+1, i+2, ..., j-2, j-1$] we use the syntax:\n",
        "\n",
        "```\n",
        "x[i:j]\n",
        "```\n",
        "This syntax generalizes to matrices and general $n$-dimensional arrays.\n",
        "\n",
        "By default, NumPy slicing will select a consecutive series of elements. In addition, slicing can be used to select every 2nd, or 3rd, or in general every $n$-th element of an array. To select every other element of an array we use the syntax:\n",
        "\n",
        "```\n",
        "x[::2]\n",
        "```\n",
        "\n",
        "To select every 3rd element of an array we use the syntax:\n",
        "\n",
        "```\n",
        "x[::3]\n",
        "```\n",
        "\n",
        "In general, to select every $n$-th element of an array we use the syntax:\n",
        "\n",
        "```\n",
        "x[::n]\n",
        "```\n",
        "\n",
        "To select every $n$-th element of an array beginning at index $i$ and up to but not including index $j$ we use the syntax:\n",
        "\n",
        "```\n",
        "x[i:j:n]\n",
        "```\n",
        "\n"
      ]
    },
    {
      "cell_type": "markdown",
      "metadata": {
        "id": "mG8OAxZ802Nc"
      },
      "source": [
        "Store the 3rd through the 11th element of $\\textbf{z}$ in an array $\\texttt{z311}$. Recall that since Python starts counting at 0, the 3rd element is at index 2 and the 11th element is at index 10. $\\texttt{z311}$ should have 9 elements which you can check with the $\\texttt{shape}$ method."
      ]
    },
    {
      "cell_type": "code",
      "execution_count": 9,
      "metadata": {
        "id": "y1oAfBxl1YIU",
        "colab": {
          "base_uri": "https://localhost:8080/"
        },
        "outputId": "9f04e3ba-31cd-4d31-e4c2-2a647dcfc741"
      },
      "outputs": [
        {
          "output_type": "stream",
          "name": "stdout",
          "text": [
            "[ 79 221  20  23 123  76 150 140 208]\n"
          ]
        }
      ],
      "source": [
        "z311 = z[2:11]\n",
        "print(z311)"
      ]
    },
    {
      "cell_type": "markdown",
      "metadata": {
        "id": "mcGTafZf2WJt"
      },
      "source": [
        "Store every 7th element of $\\textbf{x}$ in an array $\\texttt{x7}$."
      ]
    },
    {
      "cell_type": "code",
      "execution_count": 10,
      "metadata": {
        "id": "HRd1Cjxt6iAS",
        "colab": {
          "base_uri": "https://localhost:8080/"
        },
        "outputId": "6ff4e1d3-6447-4fec-91d3-026731b62be9"
      },
      "outputs": [
        {
          "output_type": "stream",
          "name": "stdout",
          "text": [
            "[270  78  67  18  36 253  76  49]\n"
          ]
        }
      ],
      "source": [
        "x7 = x[::7]\n",
        "print(x7)"
      ]
    },
    {
      "cell_type": "markdown",
      "metadata": {
        "id": "q9aVP9fl0M3V"
      },
      "source": [
        "Store all elements of $\\textbf{x}$ greater that 11 using ***boolean indexing*** in an array $\\texttt{g60}$."
      ]
    },
    {
      "cell_type": "code",
      "execution_count": 11,
      "metadata": {
        "id": "XKN755rqzJLr",
        "colab": {
          "base_uri": "https://localhost:8080/"
        },
        "outputId": "22bd7f00-9541-4156-e42d-8e9ed621ba9d"
      },
      "outputs": [
        {
          "output_type": "stream",
          "name": "stdout",
          "text": [
            "[270 130  20 128 161 226  13  78 261  45  21 244  59 127  67  38 205 182\n",
            " 184  59  82  18 248 146 291 163  94 145  36 297 288  23  98  82  99 253\n",
            " 161  79 221  20  23 123  76 150 140 208 289 294 255  49]\n"
          ]
        }
      ],
      "source": [
        "g60 = x[x>11]\n",
        "print(g60)"
      ]
    },
    {
      "cell_type": "markdown",
      "metadata": {
        "id": "_jT8YsUD1Z-c"
      },
      "source": [
        "Store the mean of $\\textbf{x}$ in a variable $\\texttt{xmean}$."
      ]
    },
    {
      "cell_type": "code",
      "execution_count": 12,
      "metadata": {
        "id": "YO9zgAX1107Y",
        "colab": {
          "base_uri": "https://localhost:8080/"
        },
        "outputId": "e66d8f76-bb6c-4492-b334-e5e9a6263007"
      },
      "outputs": [
        {
          "output_type": "stream",
          "name": "stdout",
          "text": [
            "139.38\n"
          ]
        }
      ],
      "source": [
        "xmean = np.mean(x)\n",
        "print(xmean)"
      ]
    },
    {
      "cell_type": "markdown",
      "metadata": {
        "id": "Qce_-xji112b"
      },
      "source": [
        "Store the minimum value of $\\textbf{x}$ in a variable $\\textbf{xmin}$."
      ]
    },
    {
      "cell_type": "code",
      "execution_count": 13,
      "metadata": {
        "id": "jafY13Eo17Iq",
        "colab": {
          "base_uri": "https://localhost:8080/"
        },
        "outputId": "cf541ddb-a0ab-42e3-d53b-fddfc8a22445"
      },
      "outputs": [
        {
          "output_type": "stream",
          "name": "stdout",
          "text": [
            "13\n"
          ]
        }
      ],
      "source": [
        "xmin = np.min(x)\n",
        "print(xmin)"
      ]
    },
    {
      "cell_type": "markdown",
      "metadata": {
        "id": "zEa8zjUn179n"
      },
      "source": [
        "Store the maximum value of $\\textbf{x}$ in a variable $\\texttt{xmax}$."
      ]
    },
    {
      "cell_type": "code",
      "execution_count": 14,
      "metadata": {
        "id": "G-dyVeoL2CZb",
        "colab": {
          "base_uri": "https://localhost:8080/"
        },
        "outputId": "7bbf6d82-6010-4a38-fdbc-5b39bff0088d"
      },
      "outputs": [
        {
          "output_type": "stream",
          "name": "stdout",
          "text": [
            "297\n"
          ]
        }
      ],
      "source": [
        "xmax = np.max(x)\n",
        "print(xmax)"
      ]
    },
    {
      "cell_type": "markdown",
      "metadata": {
        "id": "uWKz1PDv3IbP"
      },
      "source": [
        "Store the 1st, 28th, 2nd, and 19th elements (in that order) of $\\textbf{x}$ in\n",
        "an array $\\texttt{crazyx}$, using advanced indexing with a vector of integers."
      ]
    },
    {
      "cell_type": "code",
      "execution_count": 15,
      "metadata": {
        "id": "8a0FaRs7qAJv",
        "colab": {
          "base_uri": "https://localhost:8080/"
        },
        "outputId": "4ef2e60a-cd0c-407b-f57d-fb105fefdcfe"
      },
      "outputs": [
        {
          "output_type": "stream",
          "name": "stdout",
          "text": [
            "(270, 145, 130, 184)\n"
          ]
        }
      ],
      "source": [
        "crazyx = (x[0],x[27],x[1],x[18])\n",
        "print(crazyx)"
      ]
    },
    {
      "cell_type": "markdown",
      "metadata": {
        "id": "tiXNI96i21G2"
      },
      "source": [
        "## Part II: Matrix indexing\n",
        "\n",
        "MNIST (Modified National Institute of Standards and Technology) is a collection of 70,000 28x28 pixel grayscale images of handwritten digits (0-9), with each pixel corresponding to an integer between 0 (black) and 255 (white). The MNIST test dataset consists of 10,000 such images, and is available in an easy-to-read format in the sample_data folder of the stock Colab virtual machine. In the following exercises, we will load the MNIST test dataset into a NumPy ndarray and practice NumPy indexing and mathematical operations.\n",
        "\n",
        "\n",
        "\n",
        "\n"
      ]
    },
    {
      "cell_type": "code",
      "execution_count": 16,
      "metadata": {
        "id": "kjZ2xFno3v4j",
        "colab": {
          "base_uri": "https://localhost:8080/"
        },
        "outputId": "63db894f-89a5-4aae-f2b1-1992b2f6bc9f"
      },
      "outputs": [
        {
          "output_type": "stream",
          "name": "stdout",
          "text": [
            "(10000, 785)\n",
            "float64\n"
          ]
        }
      ],
      "source": [
        "# Load the mnist test dataset from disc\n",
        "mnist = np.loadtxt('sample_data/mnist_test.csv', delimiter=',')\n",
        "print(mnist.shape)\n",
        "print(mnist.dtype)"
      ]
    },
    {
      "cell_type": "markdown",
      "metadata": {
        "id": "TJx0XLvE-JnZ"
      },
      "source": [
        "Notice that the shape of the dataset isn't exactly what one would expect. Each image is 28 * 28 = 784 total pixels. Historically, when compute capability was more limited, these images were stored with compression algorithms that worked much better on the \"flattened\" images, i.e., the 28 rows (each 28 elements long) of the image matrices were concatenated into 784 element vectors. It so happens that the first column of this matrix of flattened images corresponds to the digit (0-9) which was drawn."
      ]
    },
    {
      "cell_type": "code",
      "execution_count": 17,
      "metadata": {
        "id": "m3Ve9U1K-Ed2",
        "colab": {
          "base_uri": "https://localhost:8080/"
        },
        "outputId": "047524b4-230e-4c2f-b673-2302fca4fd33"
      },
      "outputs": [
        {
          "output_type": "execute_result",
          "data": {
            "text/plain": [
              "array([7., 2., 1., ..., 4., 5., 6.])"
            ]
          },
          "metadata": {},
          "execution_count": 17
        }
      ],
      "source": [
        "# The digits corresponding to the drawn images\n",
        "mnist[:, 0]"
      ]
    },
    {
      "cell_type": "code",
      "execution_count": 18,
      "metadata": {
        "id": "tLyxmdbQABgF",
        "colab": {
          "base_uri": "https://localhost:8080/"
        },
        "outputId": "0946832b-4901-4bd4-a14a-e64e07e9610b"
      },
      "outputs": [
        {
          "output_type": "execute_result",
          "data": {
            "text/plain": [
              "(10000, 784)"
            ]
          },
          "metadata": {},
          "execution_count": 18
        }
      ],
      "source": [
        "# Let's remove the digit labels. But we don't want to throw away the labels so we'll save them.\n",
        "mnist_labels, mnist = mnist[:, 0], mnist[:, 1:]\n",
        "mnist.shape"
      ]
    },
    {
      "cell_type": "markdown",
      "metadata": {
        "id": "qOvgGTUEArvs"
      },
      "source": [
        "NumPy has an easy way to reconfigure data using the $\\texttt{reshape}$ method."
      ]
    },
    {
      "cell_type": "code",
      "execution_count": 19,
      "metadata": {
        "id": "7eTYi6xzAJfb"
      },
      "outputs": [],
      "source": [
        "mnist_flat, mnist = mnist, mnist.reshape(10000, 28, 28)"
      ]
    },
    {
      "cell_type": "code",
      "execution_count": 20,
      "metadata": {
        "id": "8rji7ZAZATsq",
        "colab": {
          "base_uri": "https://localhost:8080/"
        },
        "outputId": "bbf45066-b2c6-4984-de1a-cac4bbcfbf9d"
      },
      "outputs": [
        {
          "output_type": "execute_result",
          "data": {
            "text/plain": [
              "((10000, 784), (10000, 28, 28))"
            ]
          },
          "metadata": {},
          "execution_count": 20
        }
      ],
      "source": [
        "# Reshape only works when you propose a shape that has the same number of elements as the original n-way array.\n",
        "# You can confirm this is the case here by taking the product of each shape tuple.\n",
        "mnist_flat.shape, mnist.shape"
      ]
    },
    {
      "cell_type": "markdown",
      "metadata": {
        "id": "xNdra3CvCF18"
      },
      "source": [
        "Store the first image from the dataset in a matrix $\\texttt{im1}$."
      ]
    },
    {
      "cell_type": "code",
      "execution_count": 21,
      "metadata": {
        "id": "4L_eYQpvCg34"
      },
      "outputs": [],
      "source": [
        "im1 = mnist[0]"
      ]
    },
    {
      "cell_type": "markdown",
      "metadata": {
        "id": "6xwgo_hKBiTC"
      },
      "source": [
        "Matplotlib has an easy method to view image matrices rendered as images using the $\\texttt{imshow}$ method. You should see a picture of a 7 when you run the following code cell. If not, you should go back and check your work before continuing."
      ]
    },
    {
      "cell_type": "code",
      "execution_count": 22,
      "metadata": {
        "id": "ZnrFtnkcAckd",
        "colab": {
          "base_uri": "https://localhost:8080/",
          "height": 447
        },
        "outputId": "52cbb398-f932-444e-c7ba-4de368f35b3e"
      },
      "outputs": [
        {
          "output_type": "execute_result",
          "data": {
            "text/plain": [
              "<matplotlib.image.AxesImage at 0x7c9e8f6db950>"
            ]
          },
          "metadata": {},
          "execution_count": 22
        },
        {
          "output_type": "display_data",
          "data": {
            "text/plain": [
              "<Figure size 640x480 with 1 Axes>"
            ],
            "image/png": "[encoded data removed]"
          },
          "metadata": {}
        }
      ],
      "source": [
        "import matplotlib.pyplot as plt\n",
        "plt.imshow(im1, cmap='gray')"
      ]
    },
    {
      "cell_type": "markdown",
      "metadata": {
        "id": "NVL26wfGCzAg"
      },
      "source": [
        "Calculate the number of pixels in $\\texttt{im1}$ which are not black (i.e. have ink) using the comparison operator **>**, and the NumPy $\\texttt{sum}$ method. The sum method will count True as 1 and False as 0 when dealing with boolean values. Now calculate the proportion of pixels that have ink and store in the variable $\\texttt{ink}$."
      ]
    },
    {
      "cell_type": "code",
      "execution_count": 23,
      "metadata": {
        "id": "_Ohx0cbaEmSl",
        "colab": {
          "base_uri": "https://localhost:8080/"
        },
        "collapsed": true,
        "outputId": "f1a5faa1-ba23-413e-f20c-34bd5bbdafdc"
      },
      "outputs": [
        {
          "output_type": "stream",
          "name": "stdout",
          "text": [
            "116\n"
          ]
        }
      ],
      "source": [
        "ink = np.sum(im1 > 0)\n",
        "print(ink)"
      ]
    },
    {
      "cell_type": "markdown",
      "metadata": {
        "id": "cxYfZifaFvs8"
      },
      "source": [
        "From the high proportion of ink to blank space, this digit was likely drawn with a sharpie or some other kind of marker. See what kind of interesting insights data science can provide!\n",
        "\n",
        "However, this image doesn't look quite right. The ink should be black, and the background white. This is how they were originally drawn prior to the dataset processing.\n",
        "\n",
        "Create a matrix $\\texttt{invert}$ where each element is equal to 255 minus the corresponding element in $\\texttt{im1}$. So for instance, if the pixel value in  $\\texttt{im1}$ is equal to zero, the corresponding element in $\\texttt{invert}$ will be equal to 255.  "
      ]
    },
    {
      "cell_type": "code",
      "execution_count": 24,
      "metadata": {
        "id": "PnXNtMghEuqJ"
      },
      "outputs": [],
      "source": [
        "invert = 255 - im1"
      ]
    },
    {
      "cell_type": "markdown",
      "metadata": {
        "id": "RHR2AsSLIzY0"
      },
      "source": [
        "Display $\\texttt{invert}$."
      ]
    },
    {
      "cell_type": "code",
      "execution_count": 25,
      "metadata": {
        "id": "5lwDGcGqI5gO",
        "colab": {
          "base_uri": "https://localhost:8080/",
          "height": 447
        },
        "outputId": "536cee55-30c8-4a35-d235-01048f33822e"
      },
      "outputs": [
        {
          "output_type": "execute_result",
          "data": {
            "text/plain": [
              "<matplotlib.image.AxesImage at 0x7c9e8ef3bc10>"
            ]
          },
          "metadata": {},
          "execution_count": 25
        },
        {
          "output_type": "display_data",
          "data": {
            "text/plain": [
              "<Figure size 640x480 with 1 Axes>"
            ],
            "image/png": "[encoded data removed]"
          },
          "metadata": {}
        }
      ],
      "source": [
        "plt.imshow(invert, cmap='gray')"
      ]
    },
    {
      "cell_type": "markdown",
      "metadata": {
        "id": "Mx3E2tnLI7E4"
      },
      "source": [
        "Create the matrix $\\texttt{ident}$ which is the sum of $\\texttt{invert}$ and $\\texttt{im1}$. Display $\\texttt{ident}$."
      ]
    },
    {
      "cell_type": "code",
      "execution_count": 26,
      "metadata": {
        "id": "LMMnjJ8oJYwS",
        "colab": {
          "base_uri": "https://localhost:8080/",
          "height": 447
        },
        "outputId": "47a8a709-5c5d-453f-ded3-8c0de75b11ba"
      },
      "outputs": [
        {
          "output_type": "execute_result",
          "data": {
            "text/plain": [
              "<matplotlib.image.AxesImage at 0x7c9e9c249810>"
            ]
          },
          "metadata": {},
          "execution_count": 26
        },
        {
          "output_type": "display_data",
          "data": {
            "text/plain": [
              "<Figure size 640x480 with 1 Axes>"
            ],
            "image/png": "[encoded data removed]"
          },
          "metadata": {}
        }
      ],
      "source": [
        "ident = invert + im1\n",
        "plt.imshow(ident, cmap='gray')"
      ]
    },
    {
      "cell_type": "markdown",
      "metadata": {
        "id": "936t73EAKEZB"
      },
      "source": [
        "Using the $\\texttt{mnist_labels}$ vector, the **==** operator, and boolean indexing, create a 3-way array $\\texttt{mnist0}$ with all the images of the digit 0 from the $\\texttt{mnist}$ 3-way array. Display the last image in $\\texttt{mnist0}$ as a sanity check that you did the indexing  correctly."
      ]
    },
    {
      "cell_type": "code",
      "execution_count": 27,
      "metadata": {
        "id": "6zlpqTEcJt52",
        "colab": {
          "base_uri": "https://localhost:8080/",
          "height": 1000
        },
        "outputId": "1f8ccbd0-4b5e-423f-c8ec-7b5f9badf9cf"
      },
      "outputs": [
        {
          "output_type": "stream",
          "name": "stdout",
          "text": [
            "[[[0. 0. 0. ... 0. 0. 0.]\n",
            "  [0. 0. 0. ... 0. 0. 0.]\n",
            "  [0. 0. 0. ... 0. 0. 0.]\n",
            "  ...\n",
            "  [0. 0. 0. ... 0. 0. 0.]\n",
            "  [0. 0. 0. ... 0. 0. 0.]\n",
            "  [0. 0. 0. ... 0. 0. 0.]]\n",
            "\n",
            " [[0. 0. 0. ... 0. 0. 0.]\n",
            "  [0. 0. 0. ... 0. 0. 0.]\n",
            "  [0. 0. 0. ... 0. 0. 0.]\n",
            "  ...\n",
            "  [0. 0. 0. ... 0. 0. 0.]\n",
            "  [0. 0. 0. ... 0. 0. 0.]\n",
            "  [0. 0. 0. ... 0. 0. 0.]]\n",
            "\n",
            " [[0. 0. 0. ... 0. 0. 0.]\n",
            "  [0. 0. 0. ... 0. 0. 0.]\n",
            "  [0. 0. 0. ... 0. 0. 0.]\n",
            "  ...\n",
            "  [0. 0. 0. ... 0. 0. 0.]\n",
            "  [0. 0. 0. ... 0. 0. 0.]\n",
            "  [0. 0. 0. ... 0. 0. 0.]]\n",
            "\n",
            " ...\n",
            "\n",
            " [[0. 0. 0. ... 0. 0. 0.]\n",
            "  [0. 0. 0. ... 0. 0. 0.]\n",
            "  [0. 0. 0. ... 0. 0. 0.]\n",
            "  ...\n",
            "  [0. 0. 0. ... 0. 0. 0.]\n",
            "  [0. 0. 0. ... 0. 0. 0.]\n",
            "  [0. 0. 0. ... 0. 0. 0.]]\n",
            "\n",
            " [[0. 0. 0. ... 0. 0. 0.]\n",
            "  [0. 0. 0. ... 0. 0. 0.]\n",
            "  [0. 0. 0. ... 0. 0. 0.]\n",
            "  ...\n",
            "  [0. 0. 0. ... 0. 0. 0.]\n",
            "  [0. 0. 0. ... 0. 0. 0.]\n",
            "  [0. 0. 0. ... 0. 0. 0.]]\n",
            "\n",
            " [[0. 0. 0. ... 0. 0. 0.]\n",
            "  [0. 0. 0. ... 0. 0. 0.]\n",
            "  [0. 0. 0. ... 0. 0. 0.]\n",
            "  ...\n",
            "  [0. 0. 0. ... 0. 0. 0.]\n",
            "  [0. 0. 0. ... 0. 0. 0.]\n",
            "  [0. 0. 0. ... 0. 0. 0.]]]\n"
          ]
        },
        {
          "output_type": "display_data",
          "data": {
            "text/plain": [
              "<Figure size 640x480 with 1 Axes>"
            ],
            "image/png": "[encoded data removed]"
          },
          "metadata": {}
        }
      ],
      "source": [
        "mnist0 = mnist[mnist_labels == 0]\n",
        "plt.imshow(mnist0[-1], cmap='gray')\n",
        "print(mnist0)"
      ]
    },
    {
      "cell_type": "markdown",
      "metadata": {
        "id": "Bg7n8qdFMLEO"
      },
      "source": [
        "Using the NumPy $\\texttt{mean}$ method and its $\\texttt{axis}$ argument, create a 2-way array $\\texttt{mishmash}$ which is the elementwise average of all the images in $\\texttt{mnist0}$.\n",
        "Display $\\texttt{mishmash}$."
      ]
    },
    {
      "cell_type": "code",
      "execution_count": 28,
      "metadata": {
        "id": "Bxi-pEkDM7uc",
        "colab": {
          "base_uri": "https://localhost:8080/",
          "height": 447
        },
        "outputId": "01e620c3-8c25-4a6b-ecb8-572fd515840e"
      },
      "outputs": [
        {
          "output_type": "execute_result",
          "data": {
            "text/plain": [
              "<matplotlib.image.AxesImage at 0x7c9e8f7d0b10>"
            ]
          },
          "metadata": {},
          "execution_count": 28
        },
        {
          "output_type": "display_data",
          "data": {
            "text/plain": [
              "<Figure size 640x480 with 1 Axes>"
            ],
            "image/png": "[encoded data removed]"
          },
          "metadata": {}
        }
      ],
      "source": [
        "mishmash = np.mean(mnist0, axis = 0)\n",
        "plt.imshow(mishmash, cmap='gray')"
      ]
    },
    {
      "cell_type": "markdown",
      "metadata": {
        "id": "Z9cWTjJAtQ7A"
      },
      "source": [
        "Now that's a pretty nice looking zero!"
      ]
    },
    {
      "cell_type": "markdown",
      "metadata": {
        "id": "4-CQb1jS7QBi"
      },
      "source": [
        "## Part III: Submission\n",
        "\n",
        "Download your completed notebook as a .ipynb file and submit to Canvas.\n",
        "\n"
      ]
    }
  ],
  "metadata": {
    "colab": {
      "provenance": [],
      "toc_visible": true,
      "include_colab_link": true
    },
    "kernelspec": {
      "display_name": "Python 3 (ipykernel)",
      "language": "python",
      "name": "python3"
    },
    "language_info": {
      "codemirror_mode": {
        "name": "ipython",
        "version": 3
      },
      "file_extension": ".py",
      "mimetype": "text/x-python",
      "name": "python",
      "nbconvert_exporter": "python",
      "pygments_lexer": "ipython3",
      "version": "3.11.2"
    }
  },
  "nbformat": 4,
  "nbformat_minor": 0
}